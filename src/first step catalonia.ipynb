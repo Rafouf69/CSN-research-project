{
 "cells": [
  {
   "attachments": {},
   "cell_type": "markdown",
   "metadata": {},
   "source": [
    "# Preprocessing"
   ]
  },
  {
   "cell_type": "code",
   "execution_count": 60,
   "metadata": {},
   "outputs": [],
   "source": [
    "import pandas as pd\n",
    "import numpy as np\n",
    "import networkx as nx\n",
    "from pyvis.network import Network\n",
    "import math\n",
    "import re"
   ]
  },
  {
   "cell_type": "code",
   "execution_count": 6,
   "metadata": {},
   "outputs": [],
   "source": [
    "path_data = '../data/'\n",
    "link_cat_users = \"catalonia_201906_1_users_csv_hashed.csv\"\n",
    "link_cat_tweets = \"catalonia_201906_1_tweets_csv_hashed.csv\""
   ]
  },
  {
   "cell_type": "code",
   "execution_count": 7,
   "metadata": {},
   "outputs": [
    {
     "name": "stdout",
     "output_type": "stream",
     "text": [
      "<class 'pandas.core.frame.DataFrame'>\n",
      "RangeIndex: 129 entries, 0 to 128\n",
      "Data columns (total 10 columns):\n",
      " #   Column                    Non-Null Count  Dtype \n",
      "---  ------                    --------------  ----- \n",
      " 0   userid                    129 non-null    object\n",
      " 1   user_display_name         129 non-null    object\n",
      " 2   user_screen_name          129 non-null    object\n",
      " 3   user_reported_location    34 non-null     object\n",
      " 4   user_profile_description  54 non-null     object\n",
      " 5   user_profile_url          7 non-null      object\n",
      " 6   follower_count            129 non-null    int64 \n",
      " 7   following_count           129 non-null    int64 \n",
      " 8   account_creation_date     129 non-null    object\n",
      " 9   account_language          129 non-null    object\n",
      "dtypes: int64(2), object(8)\n",
      "memory usage: 10.2+ KB\n"
     ]
    }
   ],
   "source": [
    "users_df = pd.read_csv(path_data+link_cat_users)\n",
    "users_df.info()"
   ]
  },
  {
   "cell_type": "code",
   "execution_count": 8,
   "metadata": {},
   "outputs": [
    {
     "name": "stdout",
     "output_type": "stream",
     "text": [
      "<class 'pandas.core.frame.DataFrame'>\n",
      "RangeIndex: 9489 entries, 0 to 9488\n",
      "Data columns (total 31 columns):\n",
      " #   Column                    Non-Null Count  Dtype  \n",
      "---  ------                    --------------  -----  \n",
      " 0   tweetid                   9489 non-null   int64  \n",
      " 1   userid                    9489 non-null   object \n",
      " 2   user_display_name         9489 non-null   object \n",
      " 3   user_screen_name          9489 non-null   object \n",
      " 4   user_reported_location    4096 non-null   object \n",
      " 5   user_profile_description  9007 non-null   object \n",
      " 6   user_profile_url          293 non-null    object \n",
      " 7   follower_count            9489 non-null   int64  \n",
      " 8   following_count           9489 non-null   int64  \n",
      " 9   account_creation_date     9489 non-null   object \n",
      " 10  account_language          9489 non-null   object \n",
      " 11  tweet_language            9460 non-null   object \n",
      " 12  tweet_text                9489 non-null   object \n",
      " 13  tweet_time                9489 non-null   object \n",
      " 14  tweet_client_name         9489 non-null   object \n",
      " 15  in_reply_to_userid        2212 non-null   object \n",
      " 16  in_reply_to_tweetid       2201 non-null   float64\n",
      " 17  quoted_tweet_tweetid      592 non-null    float64\n",
      " 18  is_retweet                9489 non-null   bool   \n",
      " 19  retweet_userid            252 non-null    object \n",
      " 20  retweet_tweetid           6096 non-null   float64\n",
      " 21  latitude                  9489 non-null   object \n",
      " 22  longitude                 9489 non-null   object \n",
      " 23  quote_count               9486 non-null   float64\n",
      " 24  reply_count               9486 non-null   float64\n",
      " 25  like_count                9486 non-null   float64\n",
      " 26  retweet_count             9486 non-null   float64\n",
      " 27  hashtags                  9471 non-null   object \n",
      " 28  urls                      9456 non-null   object \n",
      " 29  user_mentions             9489 non-null   object \n",
      " 30  poll_choices              0 non-null      float64\n",
      "dtypes: bool(1), float64(8), int64(3), object(19)\n",
      "memory usage: 2.2+ MB\n"
     ]
    }
   ],
   "source": [
    "tweets_df = pd.read_csv(path_data+link_cat_tweets)\n",
    "tweets_df.info()"
   ]
  },
  {
   "cell_type": "code",
   "execution_count": 9,
   "metadata": {},
   "outputs": [
    {
     "data": {
      "text/html": [
       "<div>\n",
       "<style scoped>\n",
       "    .dataframe tbody tr th:only-of-type {\n",
       "        vertical-align: middle;\n",
       "    }\n",
       "\n",
       "    .dataframe tbody tr th {\n",
       "        vertical-align: top;\n",
       "    }\n",
       "\n",
       "    .dataframe thead th {\n",
       "        text-align: right;\n",
       "    }\n",
       "</style>\n",
       "<table border=\"1\" class=\"dataframe\">\n",
       "  <thead>\n",
       "    <tr style=\"text-align: right;\">\n",
       "      <th></th>\n",
       "      <th>tweetid</th>\n",
       "      <th>userid</th>\n",
       "      <th>user_display_name</th>\n",
       "      <th>user_screen_name</th>\n",
       "      <th>user_reported_location</th>\n",
       "      <th>user_profile_description</th>\n",
       "      <th>user_profile_url</th>\n",
       "      <th>follower_count</th>\n",
       "      <th>following_count</th>\n",
       "      <th>account_creation_date</th>\n",
       "      <th>...</th>\n",
       "      <th>latitude</th>\n",
       "      <th>longitude</th>\n",
       "      <th>quote_count</th>\n",
       "      <th>reply_count</th>\n",
       "      <th>like_count</th>\n",
       "      <th>retweet_count</th>\n",
       "      <th>hashtags</th>\n",
       "      <th>urls</th>\n",
       "      <th>user_mentions</th>\n",
       "      <th>poll_choices</th>\n",
       "    </tr>\n",
       "  </thead>\n",
       "  <tbody>\n",
       "    <tr>\n",
       "      <th>0</th>\n",
       "      <td>1083299458501304321</td>\n",
       "      <td>idyZnUfuHIXEQkEsgVlT6rcV5hSlDTFtMNDlLPQsFqE=</td>\n",
       "      <td>idyZnUfuHIXEQkEsgVlT6rcV5hSlDTFtMNDlLPQsFqE=</td>\n",
       "      <td>idyZnUfuHIXEQkEsgVlT6rcV5hSlDTFtMNDlLPQsFqE=</td>\n",
       "      <td>NaN</td>\n",
       "      <td>NaN</td>\n",
       "      <td>NaN</td>\n",
       "      <td>33</td>\n",
       "      <td>106</td>\n",
       "      <td>2018-12-12</td>\n",
       "      <td>...</td>\n",
       "      <td>absent</td>\n",
       "      <td>absent</td>\n",
       "      <td>0.0</td>\n",
       "      <td>0.0</td>\n",
       "      <td>0.0</td>\n",
       "      <td>0.0</td>\n",
       "      <td>[]</td>\n",
       "      <td>[]</td>\n",
       "      <td>['1049559666882211841', '12633652']</td>\n",
       "      <td>NaN</td>\n",
       "    </tr>\n",
       "    <tr>\n",
       "      <th>1</th>\n",
       "      <td>1057652411253342209</td>\n",
       "      <td>U07+ovhpwHvX886BsOrh+lgBxFc1gVDHbWiX3q3P5Q=</td>\n",
       "      <td>U07+ovhpwHvX886BsOrh+lgBxFc1gVDHbWiX3q3P5Q=</td>\n",
       "      <td>U07+ovhpwHvX886BsOrh+lgBxFc1gVDHbWiX3q3P5Q=</td>\n",
       "      <td>NaN</td>\n",
       "      <td>Barcelonina i independentista.</td>\n",
       "      <td>NaN</td>\n",
       "      <td>101</td>\n",
       "      <td>263</td>\n",
       "      <td>2018-02-13</td>\n",
       "      <td>...</td>\n",
       "      <td>absent</td>\n",
       "      <td>absent</td>\n",
       "      <td>0.0</td>\n",
       "      <td>0.0</td>\n",
       "      <td>0.0</td>\n",
       "      <td>0.0</td>\n",
       "      <td>[]</td>\n",
       "      <td>[]</td>\n",
       "      <td>['220656573', '237413314', '22954354']</td>\n",
       "      <td>NaN</td>\n",
       "    </tr>\n",
       "    <tr>\n",
       "      <th>2</th>\n",
       "      <td>872833349810835457</td>\n",
       "      <td>KP5YMWpjuwsjsDERWSgWmv6P9Mo52dSkR1VX9tOg1xo=</td>\n",
       "      <td>KP5YMWpjuwsjsDERWSgWmv6P9Mo52dSkR1VX9tOg1xo=</td>\n",
       "      <td>KP5YMWpjuwsjsDERWSgWmv6P9Mo52dSkR1VX9tOg1xo=</td>\n",
       "      <td>NaN</td>\n",
       "      <td>Ciberactivistes d'@Esquerra_ERC. Treballant de...</td>\n",
       "      <td>NaN</td>\n",
       "      <td>2459</td>\n",
       "      <td>4656</td>\n",
       "      <td>2013-03-01</td>\n",
       "      <td>...</td>\n",
       "      <td>absent</td>\n",
       "      <td>absent</td>\n",
       "      <td>0.0</td>\n",
       "      <td>0.0</td>\n",
       "      <td>0.0</td>\n",
       "      <td>0.0</td>\n",
       "      <td>['referèndum']</td>\n",
       "      <td>[]</td>\n",
       "      <td>['84053338']</td>\n",
       "      <td>NaN</td>\n",
       "    </tr>\n",
       "    <tr>\n",
       "      <th>3</th>\n",
       "      <td>1070392954962018304</td>\n",
       "      <td>KP5YMWpjuwsjsDERWSgWmv6P9Mo52dSkR1VX9tOg1xo=</td>\n",
       "      <td>KP5YMWpjuwsjsDERWSgWmv6P9Mo52dSkR1VX9tOg1xo=</td>\n",
       "      <td>KP5YMWpjuwsjsDERWSgWmv6P9Mo52dSkR1VX9tOg1xo=</td>\n",
       "      <td>NaN</td>\n",
       "      <td>Ciberactivistes d'@Esquerra_ERC. Treballant de...</td>\n",
       "      <td>NaN</td>\n",
       "      <td>2459</td>\n",
       "      <td>4656</td>\n",
       "      <td>2013-03-01</td>\n",
       "      <td>...</td>\n",
       "      <td>absent</td>\n",
       "      <td>absent</td>\n",
       "      <td>0.0</td>\n",
       "      <td>0.0</td>\n",
       "      <td>0.0</td>\n",
       "      <td>0.0</td>\n",
       "      <td>[]</td>\n",
       "      <td>[]</td>\n",
       "      <td>['84053338', '2556327074']</td>\n",
       "      <td>NaN</td>\n",
       "    </tr>\n",
       "    <tr>\n",
       "      <th>4</th>\n",
       "      <td>937392994713468929</td>\n",
       "      <td>KP5YMWpjuwsjsDERWSgWmv6P9Mo52dSkR1VX9tOg1xo=</td>\n",
       "      <td>KP5YMWpjuwsjsDERWSgWmv6P9Mo52dSkR1VX9tOg1xo=</td>\n",
       "      <td>KP5YMWpjuwsjsDERWSgWmv6P9Mo52dSkR1VX9tOg1xo=</td>\n",
       "      <td>NaN</td>\n",
       "      <td>Ciberactivistes d'@Esquerra_ERC. Treballant de...</td>\n",
       "      <td>NaN</td>\n",
       "      <td>2459</td>\n",
       "      <td>4656</td>\n",
       "      <td>2013-03-01</td>\n",
       "      <td>...</td>\n",
       "      <td>absent</td>\n",
       "      <td>absent</td>\n",
       "      <td>0.0</td>\n",
       "      <td>0.0</td>\n",
       "      <td>0.0</td>\n",
       "      <td>0.0</td>\n",
       "      <td>[]</td>\n",
       "      <td>[]</td>\n",
       "      <td>['84053338', '226640033']</td>\n",
       "      <td>NaN</td>\n",
       "    </tr>\n",
       "    <tr>\n",
       "      <th>...</th>\n",
       "      <td>...</td>\n",
       "      <td>...</td>\n",
       "      <td>...</td>\n",
       "      <td>...</td>\n",
       "      <td>...</td>\n",
       "      <td>...</td>\n",
       "      <td>...</td>\n",
       "      <td>...</td>\n",
       "      <td>...</td>\n",
       "      <td>...</td>\n",
       "      <td>...</td>\n",
       "      <td>...</td>\n",
       "      <td>...</td>\n",
       "      <td>...</td>\n",
       "      <td>...</td>\n",
       "      <td>...</td>\n",
       "      <td>...</td>\n",
       "      <td>...</td>\n",
       "      <td>...</td>\n",
       "      <td>...</td>\n",
       "      <td>...</td>\n",
       "    </tr>\n",
       "    <tr>\n",
       "      <th>9484</th>\n",
       "      <td>1035477307060891648</td>\n",
       "      <td>738418101964951552</td>\n",
       "      <td>#FemXarxa per la República</td>\n",
       "      <td>XarxaRepublica</td>\n",
       "      <td>NaN</td>\n",
       "      <td>Participa de la xarxa per la República més gra...</td>\n",
       "      <td>https://t.co/C8OskO8QRy</td>\n",
       "      <td>12941</td>\n",
       "      <td>7547</td>\n",
       "      <td>2016-06-02</td>\n",
       "      <td>...</td>\n",
       "      <td>absent</td>\n",
       "      <td>absent</td>\n",
       "      <td>1.0</td>\n",
       "      <td>0.0</td>\n",
       "      <td>49.0</td>\n",
       "      <td>19.0</td>\n",
       "      <td>['LlibertatPresosPolítics']</td>\n",
       "      <td>[]</td>\n",
       "      <td>['198141246']</td>\n",
       "      <td>NaN</td>\n",
       "    </tr>\n",
       "    <tr>\n",
       "      <th>9485</th>\n",
       "      <td>1075785843531489281</td>\n",
       "      <td>gD0tW1UsTJ84HRIgqhF8kPd1A8TnEAwgvHMlBx5cVQ=</td>\n",
       "      <td>gD0tW1UsTJ84HRIgqhF8kPd1A8TnEAwgvHMlBx5cVQ=</td>\n",
       "      <td>gD0tW1UsTJ84HRIgqhF8kPd1A8TnEAwgvHMlBx5cVQ=</td>\n",
       "      <td>Barcelona, Espanya</td>\n",
       "      <td>El diari de la informació en moviment. Segueix...</td>\n",
       "      <td>https://t.co/eM35hqqOFD</td>\n",
       "      <td>617</td>\n",
       "      <td>1350</td>\n",
       "      <td>2017-11-20</td>\n",
       "      <td>...</td>\n",
       "      <td>absent</td>\n",
       "      <td>absent</td>\n",
       "      <td>1.0</td>\n",
       "      <td>0.0</td>\n",
       "      <td>0.0</td>\n",
       "      <td>0.0</td>\n",
       "      <td>[]</td>\n",
       "      <td>['https://elvapor.net/2018/12/20/nuria-de-gisp...</td>\n",
       "      <td>['3578809229', '274058005']</td>\n",
       "      <td>NaN</td>\n",
       "    </tr>\n",
       "    <tr>\n",
       "      <th>9486</th>\n",
       "      <td>1069910801434202112</td>\n",
       "      <td>gD0tW1UsTJ84HRIgqhF8kPd1A8TnEAwgvHMlBx5cVQ=</td>\n",
       "      <td>gD0tW1UsTJ84HRIgqhF8kPd1A8TnEAwgvHMlBx5cVQ=</td>\n",
       "      <td>gD0tW1UsTJ84HRIgqhF8kPd1A8TnEAwgvHMlBx5cVQ=</td>\n",
       "      <td>Barcelona, Espanya</td>\n",
       "      <td>El diari de la informació en moviment. Segueix...</td>\n",
       "      <td>https://t.co/eM35hqqOFD</td>\n",
       "      <td>617</td>\n",
       "      <td>1350</td>\n",
       "      <td>2017-11-20</td>\n",
       "      <td>...</td>\n",
       "      <td>absent</td>\n",
       "      <td>absent</td>\n",
       "      <td>0.0</td>\n",
       "      <td>1.0</td>\n",
       "      <td>0.0</td>\n",
       "      <td>0.0</td>\n",
       "      <td>[]</td>\n",
       "      <td>['http://directe.cat', 'https://elvapor.net/20...</td>\n",
       "      <td>['13777542']</td>\n",
       "      <td>NaN</td>\n",
       "    </tr>\n",
       "    <tr>\n",
       "      <th>9487</th>\n",
       "      <td>730362464592924672</td>\n",
       "      <td>zcjq53ah8JMLh5XvL3sNbtReAefJI5gCCPCxSLmIgpU=</td>\n",
       "      <td>zcjq53ah8JMLh5XvL3sNbtReAefJI5gCCPCxSLmIgpU=</td>\n",
       "      <td>zcjq53ah8JMLh5XvL3sNbtReAefJI5gCCPCxSLmIgpU=</td>\n",
       "      <td>Barcelona, Cataluña</td>\n",
       "      <td>Educador social. Entre todos, todo!</td>\n",
       "      <td>NaN</td>\n",
       "      <td>553</td>\n",
       "      <td>2451</td>\n",
       "      <td>2016-01-11</td>\n",
       "      <td>...</td>\n",
       "      <td>absent</td>\n",
       "      <td>absent</td>\n",
       "      <td>0.0</td>\n",
       "      <td>2.0</td>\n",
       "      <td>11.0</td>\n",
       "      <td>43.0</td>\n",
       "      <td>[]</td>\n",
       "      <td>[]</td>\n",
       "      <td>[]</td>\n",
       "      <td>NaN</td>\n",
       "    </tr>\n",
       "    <tr>\n",
       "      <th>9488</th>\n",
       "      <td>941787152437964800</td>\n",
       "      <td>BL3MWry3mDc5fsUPQOzEoln7zrpLVpHfc6akUcg7eY=</td>\n",
       "      <td>BL3MWry3mDc5fsUPQOzEoln7zrpLVpHfc6akUcg7eY=</td>\n",
       "      <td>BL3MWry3mDc5fsUPQOzEoln7zrpLVpHfc6akUcg7eY=</td>\n",
       "      <td>Barcelona, Espanya</td>\n",
       "      <td>Barcelonina d'esquerres. Vull la llibertat del...</td>\n",
       "      <td>NaN</td>\n",
       "      <td>213</td>\n",
       "      <td>454</td>\n",
       "      <td>2017-04-11</td>\n",
       "      <td>...</td>\n",
       "      <td>absent</td>\n",
       "      <td>absent</td>\n",
       "      <td>0.0</td>\n",
       "      <td>1.0</td>\n",
       "      <td>0.0</td>\n",
       "      <td>0.0</td>\n",
       "      <td>['RoviraTV3']</td>\n",
       "      <td>[]</td>\n",
       "      <td>[]</td>\n",
       "      <td>NaN</td>\n",
       "    </tr>\n",
       "  </tbody>\n",
       "</table>\n",
       "<p>9489 rows × 31 columns</p>\n",
       "</div>"
      ],
      "text/plain": [
       "                  tweetid                                        userid  \\\n",
       "0     1083299458501304321  idyZnUfuHIXEQkEsgVlT6rcV5hSlDTFtMNDlLPQsFqE=   \n",
       "1     1057652411253342209   U07+ovhpwHvX886BsOrh+lgBxFc1gVDHbWiX3q3P5Q=   \n",
       "2      872833349810835457  KP5YMWpjuwsjsDERWSgWmv6P9Mo52dSkR1VX9tOg1xo=   \n",
       "3     1070392954962018304  KP5YMWpjuwsjsDERWSgWmv6P9Mo52dSkR1VX9tOg1xo=   \n",
       "4      937392994713468929  KP5YMWpjuwsjsDERWSgWmv6P9Mo52dSkR1VX9tOg1xo=   \n",
       "...                   ...                                           ...   \n",
       "9484  1035477307060891648                            738418101964951552   \n",
       "9485  1075785843531489281   gD0tW1UsTJ84HRIgqhF8kPd1A8TnEAwgvHMlBx5cVQ=   \n",
       "9486  1069910801434202112   gD0tW1UsTJ84HRIgqhF8kPd1A8TnEAwgvHMlBx5cVQ=   \n",
       "9487   730362464592924672  zcjq53ah8JMLh5XvL3sNbtReAefJI5gCCPCxSLmIgpU=   \n",
       "9488   941787152437964800   BL3MWry3mDc5fsUPQOzEoln7zrpLVpHfc6akUcg7eY=   \n",
       "\n",
       "                                 user_display_name  \\\n",
       "0     idyZnUfuHIXEQkEsgVlT6rcV5hSlDTFtMNDlLPQsFqE=   \n",
       "1      U07+ovhpwHvX886BsOrh+lgBxFc1gVDHbWiX3q3P5Q=   \n",
       "2     KP5YMWpjuwsjsDERWSgWmv6P9Mo52dSkR1VX9tOg1xo=   \n",
       "3     KP5YMWpjuwsjsDERWSgWmv6P9Mo52dSkR1VX9tOg1xo=   \n",
       "4     KP5YMWpjuwsjsDERWSgWmv6P9Mo52dSkR1VX9tOg1xo=   \n",
       "...                                            ...   \n",
       "9484                    #FemXarxa per la República   \n",
       "9485   gD0tW1UsTJ84HRIgqhF8kPd1A8TnEAwgvHMlBx5cVQ=   \n",
       "9486   gD0tW1UsTJ84HRIgqhF8kPd1A8TnEAwgvHMlBx5cVQ=   \n",
       "9487  zcjq53ah8JMLh5XvL3sNbtReAefJI5gCCPCxSLmIgpU=   \n",
       "9488   BL3MWry3mDc5fsUPQOzEoln7zrpLVpHfc6akUcg7eY=   \n",
       "\n",
       "                                  user_screen_name user_reported_location  \\\n",
       "0     idyZnUfuHIXEQkEsgVlT6rcV5hSlDTFtMNDlLPQsFqE=                    NaN   \n",
       "1      U07+ovhpwHvX886BsOrh+lgBxFc1gVDHbWiX3q3P5Q=                    NaN   \n",
       "2     KP5YMWpjuwsjsDERWSgWmv6P9Mo52dSkR1VX9tOg1xo=                    NaN   \n",
       "3     KP5YMWpjuwsjsDERWSgWmv6P9Mo52dSkR1VX9tOg1xo=                    NaN   \n",
       "4     KP5YMWpjuwsjsDERWSgWmv6P9Mo52dSkR1VX9tOg1xo=                    NaN   \n",
       "...                                            ...                    ...   \n",
       "9484                                XarxaRepublica                    NaN   \n",
       "9485   gD0tW1UsTJ84HRIgqhF8kPd1A8TnEAwgvHMlBx5cVQ=     Barcelona, Espanya   \n",
       "9486   gD0tW1UsTJ84HRIgqhF8kPd1A8TnEAwgvHMlBx5cVQ=     Barcelona, Espanya   \n",
       "9487  zcjq53ah8JMLh5XvL3sNbtReAefJI5gCCPCxSLmIgpU=    Barcelona, Cataluña   \n",
       "9488   BL3MWry3mDc5fsUPQOzEoln7zrpLVpHfc6akUcg7eY=     Barcelona, Espanya   \n",
       "\n",
       "                               user_profile_description  \\\n",
       "0                                                   NaN   \n",
       "1                        Barcelonina i independentista.   \n",
       "2     Ciberactivistes d'@Esquerra_ERC. Treballant de...   \n",
       "3     Ciberactivistes d'@Esquerra_ERC. Treballant de...   \n",
       "4     Ciberactivistes d'@Esquerra_ERC. Treballant de...   \n",
       "...                                                 ...   \n",
       "9484  Participa de la xarxa per la República més gra...   \n",
       "9485  El diari de la informació en moviment. Segueix...   \n",
       "9486  El diari de la informació en moviment. Segueix...   \n",
       "9487                Educador social. Entre todos, todo!   \n",
       "9488  Barcelonina d'esquerres. Vull la llibertat del...   \n",
       "\n",
       "             user_profile_url  follower_count  following_count  \\\n",
       "0                         NaN              33              106   \n",
       "1                         NaN             101              263   \n",
       "2                         NaN            2459             4656   \n",
       "3                         NaN            2459             4656   \n",
       "4                         NaN            2459             4656   \n",
       "...                       ...             ...              ...   \n",
       "9484  https://t.co/C8OskO8QRy           12941             7547   \n",
       "9485  https://t.co/eM35hqqOFD             617             1350   \n",
       "9486  https://t.co/eM35hqqOFD             617             1350   \n",
       "9487                      NaN             553             2451   \n",
       "9488                      NaN             213              454   \n",
       "\n",
       "     account_creation_date  ... latitude longitude quote_count reply_count  \\\n",
       "0               2018-12-12  ...   absent    absent         0.0         0.0   \n",
       "1               2018-02-13  ...   absent    absent         0.0         0.0   \n",
       "2               2013-03-01  ...   absent    absent         0.0         0.0   \n",
       "3               2013-03-01  ...   absent    absent         0.0         0.0   \n",
       "4               2013-03-01  ...   absent    absent         0.0         0.0   \n",
       "...                    ...  ...      ...       ...         ...         ...   \n",
       "9484            2016-06-02  ...   absent    absent         1.0         0.0   \n",
       "9485            2017-11-20  ...   absent    absent         1.0         0.0   \n",
       "9486            2017-11-20  ...   absent    absent         0.0         1.0   \n",
       "9487            2016-01-11  ...   absent    absent         0.0         2.0   \n",
       "9488            2017-04-11  ...   absent    absent         0.0         1.0   \n",
       "\n",
       "     like_count retweet_count                     hashtags  \\\n",
       "0           0.0           0.0                           []   \n",
       "1           0.0           0.0                           []   \n",
       "2           0.0           0.0               ['referèndum']   \n",
       "3           0.0           0.0                           []   \n",
       "4           0.0           0.0                           []   \n",
       "...         ...           ...                          ...   \n",
       "9484       49.0          19.0  ['LlibertatPresosPolítics']   \n",
       "9485        0.0           0.0                           []   \n",
       "9486        0.0           0.0                           []   \n",
       "9487       11.0          43.0                           []   \n",
       "9488        0.0           0.0                ['RoviraTV3']   \n",
       "\n",
       "                                                   urls  \\\n",
       "0                                                    []   \n",
       "1                                                    []   \n",
       "2                                                    []   \n",
       "3                                                    []   \n",
       "4                                                    []   \n",
       "...                                                 ...   \n",
       "9484                                                 []   \n",
       "9485  ['https://elvapor.net/2018/12/20/nuria-de-gisp...   \n",
       "9486  ['http://directe.cat', 'https://elvapor.net/20...   \n",
       "9487                                                 []   \n",
       "9488                                                 []   \n",
       "\n",
       "                               user_mentions poll_choices  \n",
       "0        ['1049559666882211841', '12633652']          NaN  \n",
       "1     ['220656573', '237413314', '22954354']          NaN  \n",
       "2                               ['84053338']          NaN  \n",
       "3                 ['84053338', '2556327074']          NaN  \n",
       "4                  ['84053338', '226640033']          NaN  \n",
       "...                                      ...          ...  \n",
       "9484                           ['198141246']          NaN  \n",
       "9485             ['3578809229', '274058005']          NaN  \n",
       "9486                            ['13777542']          NaN  \n",
       "9487                                      []          NaN  \n",
       "9488                                      []          NaN  \n",
       "\n",
       "[9489 rows x 31 columns]"
      ]
     },
     "execution_count": 9,
     "metadata": {},
     "output_type": "execute_result"
    }
   ],
   "source": [
    "tweets_df"
   ]
  },
  {
   "cell_type": "code",
   "execution_count": 10,
   "metadata": {},
   "outputs": [],
   "source": [
    "tweets_df = tweets_df.drop([\"poll_choices\"], axis=1)"
   ]
  },
  {
   "attachments": {},
   "cell_type": "markdown",
   "metadata": {},
   "source": [
    "# Analyzes"
   ]
  },
  {
   "attachments": {},
   "cell_type": "markdown",
   "metadata": {},
   "source": [
    "## Statistical"
   ]
  },
  {
   "attachments": {},
   "cell_type": "markdown",
   "metadata": {},
   "source": [
    "**Time interval**"
   ]
  },
  {
   "cell_type": "code",
   "execution_count": 55,
   "metadata": {},
   "outputs": [],
   "source": [
    "tweets_df[\"tweet_time\"] = tweets_df[\"tweet_time\"].astype(\"datetime64\")"
   ]
  },
  {
   "cell_type": "code",
   "execution_count": 93,
   "metadata": {},
   "outputs": [
    {
     "data": {
      "text/plain": [
       "<AxesSubplot: xlabel='tweet_time'>"
      ]
     },
     "execution_count": 93,
     "metadata": {},
     "output_type": "execute_result"
    },
    {
     "data": {
      "image/png": "[encoded data removed]",
      "text/plain": [
       "<Figure size 640x480 with 1 Axes>"
      ]
     },
     "metadata": {},
     "output_type": "display_data"
    }
   ],
   "source": [
    "tweets_df.groupby(tweets_df[\"tweet_time\"].dt.month)[\"tweetid\"].count().plot(kind=\"bar\")"
   ]
  },
  {
   "attachments": {},
   "cell_type": "markdown",
   "metadata": {},
   "source": [
    "Seems to tweet less during summer ?"
   ]
  },
  {
   "cell_type": "code",
   "execution_count": 92,
   "metadata": {},
   "outputs": [
    {
     "data": {
      "text/plain": [
       "<AxesSubplot: xlabel='tweet_time,tweet_time'>"
      ]
     },
     "execution_count": 92,
     "metadata": {},
     "output_type": "execute_result"
    },
    {
     "data": {
      "image/png": "[encoded data removed]",
      "text/plain": [
       "<Figure size 640x480 with 1 Axes>"
      ]
     },
     "metadata": {},
     "output_type": "display_data"
    }
   ],
   "source": [
    "tweets_df.groupby([tweets_df[\"tweet_time\"].dt.year, tweets_df[\"tweet_time\"].dt.month])[\"tweetid\"].count().plot(kind=\"bar\")"
   ]
  },
  {
   "attachments": {},
   "cell_type": "markdown",
   "metadata": {},
   "source": [
    "Those account were starting to increase their tweets before the Catalan Crisis that start on **28 October 2017**. Ater this date there is a huge increase in tweet."
   ]
  },
  {
   "attachments": {},
   "cell_type": "markdown",
   "metadata": {},
   "source": [
    "### Account creation date"
   ]
  },
  {
   "cell_type": "code",
   "execution_count": 99,
   "metadata": {},
   "outputs": [],
   "source": [
    "users_df[\"account_creation_date\"] = users_df[\"account_creation_date\"].astype(\"datetime64\")"
   ]
  },
  {
   "cell_type": "code",
   "execution_count": 100,
   "metadata": {},
   "outputs": [
    {
     "data": {
      "text/plain": [
       "<AxesSubplot: xlabel='account_creation_date,account_creation_date'>"
      ]
     },
     "execution_count": 100,
     "metadata": {},
     "output_type": "execute_result"
    },
    {
     "data": {
      "image/png": "[encoded data removed]",
      "text/plain": [
       "<Figure size 640x480 with 1 Axes>"
      ]
     },
     "metadata": {},
     "output_type": "display_data"
    }
   ],
   "source": [
    "users_df.groupby([users_df[\"account_creation_date\"].dt.year, users_df[\"account_creation_date\"].dt.month])[\"account_creation_date\"].count().plot(kind=\"bar\")"
   ]
  },
  {
   "attachments": {},
   "cell_type": "markdown",
   "metadata": {},
   "source": [
    "As we can see a lot of the account categorized as \"violating the law of twitter\" where new account which were probably created for this political astroturfing campaign."
   ]
  },
  {
   "cell_type": "code",
   "execution_count": 101,
   "metadata": {},
   "outputs": [
    {
     "data": {
      "text/plain": [
       "<AxesSubplot: xlabel='account_creation_date,account_creation_date'>"
      ]
     },
     "execution_count": 101,
     "metadata": {},
     "output_type": "execute_result"
    },
    {
     "data": {
      "image/png": "[encoded data removed]",
      "text/plain": [
       "<Figure size 640x480 with 1 Axes>"
      ]
     },
     "metadata": {},
     "output_type": "display_data"
    }
   ],
   "source": [
    "tweets_df.groupby([tweets_df[\"account_creation_date\"].dt.year, tweets_df[\"account_creation_date\"].dt.month])[\"account_creation_date\"].count().plot(kind=\"bar\")"
   ]
  },
  {
   "attachments": {},
   "cell_type": "markdown",
   "metadata": {},
   "source": [
    "However from this barplot, we can see that accounts that published most tweets (in our dataset), are account which were created a long time before the Catalan Crisis."
   ]
  },
  {
   "attachments": {},
   "cell_type": "markdown",
   "metadata": {},
   "source": [
    "**Repartition of retweet**"
   ]
  },
  {
   "cell_type": "code",
   "execution_count": 16,
   "metadata": {},
   "outputs": [
    {
     "data": {
      "text/plain": [
       "<AxesSubplot: >"
      ]
     },
     "execution_count": 16,
     "metadata": {},
     "output_type": "execute_result"
    },
    {
     "data": {
      "image/png": "[encoded data removed]",
      "text/plain": [
       "<Figure size 640x480 with 1 Axes>"
      ]
     },
     "metadata": {},
     "output_type": "display_data"
    }
   ],
   "source": [
    "tweets_df.is_retweet.astype(int).hist(bins=3)"
   ]
  },
  {
   "attachments": {},
   "cell_type": "markdown",
   "metadata": {},
   "source": [
    "## Retweet graph\n",
    "### Create Graph and add node \n",
    "**one node for each user with a weight based on number of follower** "
   ]
  },
  {
   "cell_type": "code",
   "execution_count": 50,
   "metadata": {},
   "outputs": [],
   "source": [
    "true_rt_df = tweets_df[tweets_df[\"is_retweet\"]==True]\n",
    "true_rt_df = true_rt_df[true_rt_df[\"retweet_userid\"].notna()==True]"
   ]
  },
  {
   "cell_type": "code",
   "execution_count": 167,
   "metadata": {},
   "outputs": [],
   "source": [
    "G=nx.DiGraph()"
   ]
  },
  {
   "cell_type": "code",
   "execution_count": 168,
   "metadata": {},
   "outputs": [],
   "source": [
    "for index, row in users_df.iterrows():\n",
    "    G.add_node(str(index), size=5*math.log(row[\"follower_count\"]+2))"
   ]
  },
  {
   "cell_type": "code",
   "execution_count": 169,
   "metadata": {},
   "outputs": [],
   "source": [
    "for index, row in true_rt_df.iterrows():\n",
    "    value = len(true_rt_df[(true_rt_df.userid == row[\"userid\"]) & (true_rt_df.retweet_userid == row[\"retweet_userid\"])].index)\n",
    "    G.add_edge(\n",
    "        str(users_df[users_df.userid == row[\"userid\"]].index[0]), \n",
    "        str(users_df[users_df.userid == row[\"retweet_userid\"]].index[0]), \n",
    "        color=\"green\",\n",
    "        value=value\n",
    "    )"
   ]
  },
  {
   "cell_type": "code",
   "execution_count": 176,
   "metadata": {},
   "outputs": [],
   "source": [
    "nt = Network(\n",
    "    height=\"750px\", \n",
    "    width=\"100%\",\n",
    "    bgcolor=\"#222222\", \n",
    "    font_color=\"white\",\n",
    "    directed=True\n",
    "    )\n",
    "nt.from_nx(G)\n",
    "nt.toggle_physics(True)\n",
    "nt.show('nx.html')"
   ]
  },
  {
   "attachments": {},
   "cell_type": "markdown",
   "metadata": {},
   "source": [
    "## In reply graph\n",
    "### Create Graph and add node \n",
    "**one node for each user with a weight based on number of follower** "
   ]
  },
  {
   "cell_type": "code",
   "execution_count": 187,
   "metadata": {},
   "outputs": [],
   "source": [
    "in_reply_df = tweets_df[tweets_df[\"in_reply_to_userid\"].notna()==True]"
   ]
  },
  {
   "cell_type": "code",
   "execution_count": 195,
   "metadata": {},
   "outputs": [
    {
     "data": {
      "text/plain": [
       "196     @portet_bruguera @QuimTorraiPla @ensenyamentca...\n",
       "219     @portet_bruguera @CridaNacional @sergisabria S...\n",
       "235     Sorprendente la decisión de @CUPBarcelona de l...\n",
       "238     @thesanirac @AlfredBosch @ERC9B @Esquerra_ERC ...\n",
       "240     @portet_bruguera @Esquerra_ERC @JuntsXCat @par...\n",
       "                              ...                        \n",
       "9437    @portet_bruguera Mare de deu, Marc. Ets vomiti...\n",
       "9449          @Pdemocratacat @joanbague @UN #BuchDimissio\n",
       "9450    @portet_bruguera Fa vergonya. Nom�s et dedique...\n",
       "9463         @portet_bruguera Portet, esta l'amo content?\n",
       "9469    @portet_bruguera @KRLS @JuntsXCat En tot cas, ...\n",
       "Name: tweet_text, Length: 2212, dtype: object"
      ]
     },
     "execution_count": 195,
     "metadata": {},
     "output_type": "execute_result"
    }
   ],
   "source": [
    "in_reply_df.tweet_text"
   ]
  },
  {
   "cell_type": "code",
   "execution_count": 188,
   "metadata": {},
   "outputs": [],
   "source": [
    "in_reply_graph=nx.DiGraph()"
   ]
  },
  {
   "cell_type": "code",
   "execution_count": 189,
   "metadata": {},
   "outputs": [],
   "source": [
    "for index, row in users_df.iterrows():\n",
    "    in_reply_graph.add_node(str(index), size=5*math.log(row[\"follower_count\"]+2))"
   ]
  },
  {
   "cell_type": "code",
   "execution_count": 191,
   "metadata": {},
   "outputs": [],
   "source": [
    "for index, row in in_reply_df.iterrows():\n",
    "    value = len(in_reply_df[(in_reply_df.userid == row[\"userid\"]) & (in_reply_df.in_reply_to_userid == row[\"in_reply_to_userid\"])].index)\n",
    "    if len(users_df[users_df.userid == row[\"in_reply_to_userid\"]]) != 0:\n",
    "        in_reply_graph.add_edge(\n",
    "            str(users_df[users_df.userid == row[\"userid\"]].index[0]), \n",
    "            str(users_df[users_df.userid == row[\"in_reply_to_userid\"]].index[0]), \n",
    "            color=\"green\",\n",
    "            value=value\n",
    "        )"
   ]
  },
  {
   "cell_type": "code",
   "execution_count": 192,
   "metadata": {},
   "outputs": [],
   "source": [
    "nt = Network(\n",
    "    height=\"750px\", \n",
    "    width=\"100%\",\n",
    "    bgcolor=\"#222222\", \n",
    "    font_color=\"white\",\n",
    "    directed=True\n",
    "    )\n",
    "nt.from_nx(in_reply_graph)\n",
    "nt.toggle_physics(True)\n",
    "nt.show('nx_in_reply.html')"
   ]
  },
  {
   "attachments": {},
   "cell_type": "markdown",
   "metadata": {},
   "source": [
    "## Co-tweet network"
   ]
  },
  {
   "cell_type": "code",
   "execution_count": 94,
   "metadata": {},
   "outputs": [
    {
     "data": {
      "text/plain": [
       "Un dia menys pel #21D i el president KRLS encara no ha explicat com s'ho farà per ser investit president.                                                                                                                                                  18\n",
       "La bateria d'incompliments del govern Colau que ha fet @AlfredBosch s'hauria de passar a les escoles #RecuperemBCN                                                                                                                                          2\n",
       "@nfJXp0ghRv6KgKuVFUBZMmmLP53wUoQXxeQlPmyKI= @ernestmaragall Maragall                                                                                                                                                                                        2\n",
       "👉 Vine aquesta tarda a la presentació del Consell per la República!\\n\\n🙌 Seguirem les intervencions del President Puigdemont, el President Torra, el vicepresident Aragonès i el Conseller Comín.\\n\\n📍Plaça de Sant Jaume, 19h. https://t.co/LD03ntFNv4     1\n",
       "@bcnencomu @AdaColau Bastant lleig això de penjar-se les medalles en exclusiva quan el 50% del mèrit és d'ERC i la Generalitat. Coses de la nova política...                                                                                                1\n",
       "Name: tweet_text, dtype: int64"
      ]
     },
     "execution_count": 94,
     "metadata": {},
     "output_type": "execute_result"
    }
   ],
   "source": [
    "tweets_df[tweets_df[\"is_retweet\"]==False][\"tweet_text\"].value_counts().head(5)"
   ]
  },
  {
   "cell_type": "code",
   "execution_count": 20,
   "metadata": {},
   "outputs": [
    {
     "data": {
      "text/plain": [
       "BL3MWry3mDc5fsUPQOzEoln7zrpLVpHfc6akUcg7eY=    18\n",
       "Name: userid, dtype: int64"
      ]
     },
     "execution_count": 20,
     "metadata": {},
     "output_type": "execute_result"
    }
   ],
   "source": [
    "tweets_df[tweets_df[\"tweet_text\"] == \"Un dia menys pel #21D i el president KRLS encara no ha explicat com s'ho farà per ser investit president.\"][\"userid\"].value_counts()"
   ]
  },
  {
   "cell_type": "code",
   "execution_count": 28,
   "metadata": {},
   "outputs": [
    {
     "data": {
      "text/plain": [
       "19"
      ]
     },
     "execution_count": 28,
     "metadata": {},
     "output_type": "execute_result"
    }
   ],
   "source": [
    "df = tweets_df[tweets_df[\"tweet_text\"].duplicated()]\n",
    "len(df[df[\"is_retweet\"]==False])"
   ]
  },
  {
   "attachments": {},
   "cell_type": "markdown",
   "metadata": {},
   "source": [
    "**Observation**\n",
    "\n",
    "In this dataset there is no Co-tweet networks perhaps we only have 9k tweets.\n",
    "However we still see the user with the id *BL3MWry3mDc5fsUPQOzEoln7zrpLVpHfc6akUcg7eY=* who posted the same tweet everyday for 18 days.\n",
    "\n",
    "We also observe that there is only 19 rows which have duplicate tweet text. We can then ofc cannot observe good co-tweet network. "
   ]
  },
  {
   "attachments": {},
   "cell_type": "markdown",
   "metadata": {},
   "source": [
    "## Analyzes of the word used in the tweet texts."
   ]
  },
  {
   "cell_type": "code",
   "execution_count": 41,
   "metadata": {},
   "outputs": [],
   "source": [
    "word_df = pd.DataFrame(data={'word': [], 'occurence': []})\n",
    "a =str()\n",
    "a.replace(\".\")"
   ]
  },
  {
   "cell_type": "code",
   "execution_count": null,
   "metadata": {},
   "outputs": [],
   "source": [
    "for index, row in tweets_df.iterrows():\n",
    "    for word in row[\"tweet_text\"].split(\" \"):\n",
    "        if word in word_df[\"word\"].unique():\n",
    "            word_df.at[word_df[word_df[\"word\"] == word].index[0],\"occurence\"] += 1\n",
    "        else:\n",
    "            word_df.loc[len(word_df.index)] = [word, 1]"
   ]
  },
  {
   "cell_type": "code",
   "execution_count": 54,
   "metadata": {},
   "outputs": [
    {
     "data": {
      "text/html": [
       "<div>\n",
       "<style scoped>\n",
       "    .dataframe tbody tr th:only-of-type {\n",
       "        vertical-align: middle;\n",
       "    }\n",
       "\n",
       "    .dataframe tbody tr th {\n",
       "        vertical-align: top;\n",
       "    }\n",
       "\n",
       "    .dataframe thead th {\n",
       "        text-align: right;\n",
       "    }\n",
       "</style>\n",
       "<table border=\"1\" class=\"dataframe\">\n",
       "  <thead>\n",
       "    <tr style=\"text-align: right;\">\n",
       "      <th></th>\n",
       "      <th>word</th>\n",
       "      <th>occurence</th>\n",
       "    </tr>\n",
       "  </thead>\n",
       "  <tbody>\n",
       "    <tr>\n",
       "      <th>1095</th>\n",
       "      <td>@AlfredBosch:</td>\n",
       "      <td>987.0</td>\n",
       "    </tr>\n",
       "    <tr>\n",
       "      <th>849</th>\n",
       "      <td>@ERCbcn:</td>\n",
       "      <td>604.0</td>\n",
       "    </tr>\n",
       "    <tr>\n",
       "      <th>926</th>\n",
       "      <td>@AlfredBosch</td>\n",
       "      <td>547.0</td>\n",
       "    </tr>\n",
       "    <tr>\n",
       "      <th>280</th>\n",
       "      <td>dels</td>\n",
       "      <td>471.0</td>\n",
       "    </tr>\n",
       "    <tr>\n",
       "      <th>37</th>\n",
       "      <td>@Esquerra_ERC:</td>\n",
       "      <td>420.0</td>\n",
       "    </tr>\n",
       "    <tr>\n",
       "      <th>884</th>\n",
       "      <td>@Esquerra_ERC</td>\n",
       "      <td>411.0</td>\n",
       "    </tr>\n",
       "    <tr>\n",
       "      <th>253</th>\n",
       "      <td>Barcelona</td>\n",
       "      <td>406.0</td>\n",
       "    </tr>\n",
       "    <tr>\n",
       "      <th>740</th>\n",
       "      <td>sobre</td>\n",
       "      <td>404.0</td>\n",
       "    </tr>\n",
       "    <tr>\n",
       "      <th>242</th>\n",
       "      <td>govern</td>\n",
       "      <td>393.0</td>\n",
       "    </tr>\n",
       "    <tr>\n",
       "      <th>455</th>\n",
       "      <td>@KRLS</td>\n",
       "      <td>302.0</td>\n",
       "    </tr>\n",
       "    <tr>\n",
       "      <th>15672</th>\n",
       "      <td>@naciopolitica:</td>\n",
       "      <td>285.0</td>\n",
       "    </tr>\n",
       "    <tr>\n",
       "      <th>2098</th>\n",
       "      <td>@ERCbcn</td>\n",
       "      <td>282.0</td>\n",
       "    </tr>\n",
       "    <tr>\n",
       "      <th>92</th>\n",
       "      <td>Colau</td>\n",
       "      <td>280.0</td>\n",
       "    </tr>\n",
       "    <tr>\n",
       "      <th>80</th>\n",
       "      <td>perquè</td>\n",
       "      <td>274.0</td>\n",
       "    </tr>\n",
       "    <tr>\n",
       "      <th>13287</th>\n",
       "      <td>@VilaWeb:</td>\n",
       "      <td>260.0</td>\n",
       "    </tr>\n",
       "    <tr>\n",
       "      <th>1194</th>\n",
       "      <td>contra</td>\n",
       "      <td>255.0</td>\n",
       "    </tr>\n",
       "    <tr>\n",
       "      <th>728</th>\n",
       "      <td>@AdaColau</td>\n",
       "      <td>235.0</td>\n",
       "    </tr>\n",
       "    <tr>\n",
       "      <th>16</th>\n",
       "      <td>molt</td>\n",
       "      <td>232.0</td>\n",
       "    </tr>\n",
       "    <tr>\n",
       "      <th>302</th>\n",
       "      <td>però</td>\n",
       "      <td>229.0</td>\n",
       "    </tr>\n",
       "    <tr>\n",
       "      <th>617</th>\n",
       "      <td>això</td>\n",
       "      <td>206.0</td>\n",
       "    </tr>\n",
       "  </tbody>\n",
       "</table>\n",
       "</div>"
      ],
      "text/plain": [
       "                  word  occurence\n",
       "1095     @AlfredBosch:      987.0\n",
       "849           @ERCbcn:      604.0\n",
       "926       @AlfredBosch      547.0\n",
       "280               dels      471.0\n",
       "37      @Esquerra_ERC:      420.0\n",
       "884      @Esquerra_ERC      411.0\n",
       "253          Barcelona      406.0\n",
       "740              sobre      404.0\n",
       "242             govern      393.0\n",
       "455              @KRLS      302.0\n",
       "15672  @naciopolitica:      285.0\n",
       "2098           @ERCbcn      282.0\n",
       "92               Colau      280.0\n",
       "80              perquè      274.0\n",
       "13287        @VilaWeb:      260.0\n",
       "1194            contra      255.0\n",
       "728          @AdaColau      235.0\n",
       "16                molt      232.0\n",
       "302               però      229.0\n",
       "617               això      206.0"
      ]
     },
     "execution_count": 54,
     "metadata": {},
     "output_type": "execute_result"
    }
   ],
   "source": [
    "word_df[word_df[\"word\"].str.len() > 3].sort_values(by=\"occurence\", ascending=False).head(20)"
   ]
  },
  {
   "attachments": {},
   "cell_type": "markdown",
   "metadata": {},
   "source": [
    "**clean the data**"
   ]
  },
  {
   "cell_type": "code",
   "execution_count": 69,
   "metadata": {},
   "outputs": [
    {
     "data": {
      "text/html": [
       "<div>\n",
       "<style scoped>\n",
       "    .dataframe tbody tr th:only-of-type {\n",
       "        vertical-align: middle;\n",
       "    }\n",
       "\n",
       "    .dataframe tbody tr th {\n",
       "        vertical-align: top;\n",
       "    }\n",
       "\n",
       "    .dataframe thead th {\n",
       "        text-align: right;\n",
       "    }\n",
       "</style>\n",
       "<table border=\"1\" class=\"dataframe\">\n",
       "  <thead>\n",
       "    <tr style=\"text-align: right;\">\n",
       "      <th></th>\n",
       "      <th>word</th>\n",
       "      <th>occurence</th>\n",
       "    </tr>\n",
       "  </thead>\n",
       "  <tbody>\n",
       "    <tr>\n",
       "      <th>0</th>\n",
       "      <td>RT</td>\n",
       "      <td>6132.0</td>\n",
       "    </tr>\n",
       "    <tr>\n",
       "      <th>1</th>\n",
       "      <td>@ratafia:</td>\n",
       "      <td>4.0</td>\n",
       "    </tr>\n",
       "    <tr>\n",
       "      <th>2</th>\n",
       "      <td>Hola</td>\n",
       "      <td>53.0</td>\n",
       "    </tr>\n",
       "    <tr>\n",
       "      <th>3</th>\n",
       "      <td>@joanpuig</td>\n",
       "      <td>5.0</td>\n",
       "    </tr>\n",
       "    <tr>\n",
       "      <th>4</th>\n",
       "      <td>es</td>\n",
       "      <td>811.0</td>\n",
       "    </tr>\n",
       "    <tr>\n",
       "      <th>...</th>\n",
       "      <td>...</td>\n",
       "      <td>...</td>\n",
       "    </tr>\n",
       "    <tr>\n",
       "      <th>33055</th>\n",
       "      <td>vuelven!</td>\n",
       "      <td>1.0</td>\n",
       "    </tr>\n",
       "    <tr>\n",
       "      <th>33056</th>\n",
       "      <td>https://t.co/5TkUPnSNRf</td>\n",
       "      <td>1.0</td>\n",
       "    </tr>\n",
       "    <tr>\n",
       "      <th>33057</th>\n",
       "      <td>bons.</td>\n",
       "      <td>1.0</td>\n",
       "    </tr>\n",
       "    <tr>\n",
       "      <th>33058</th>\n",
       "      <td>Bé,</td>\n",
       "      <td>1.0</td>\n",
       "    </tr>\n",
       "    <tr>\n",
       "      <th>33059</th>\n",
       "      <td>Banca</td>\n",
       "      <td>1.0</td>\n",
       "    </tr>\n",
       "  </tbody>\n",
       "</table>\n",
       "<p>33060 rows × 2 columns</p>\n",
       "</div>"
      ],
      "text/plain": [
       "                          word  occurence\n",
       "0                           RT     6132.0\n",
       "1                    @ratafia:        4.0\n",
       "2                         Hola       53.0\n",
       "3                    @joanpuig        5.0\n",
       "4                           es      811.0\n",
       "...                        ...        ...\n",
       "33055                 vuelven!        1.0\n",
       "33056  https://t.co/5TkUPnSNRf        1.0\n",
       "33057                    bons.        1.0\n",
       "33058                      Bé,        1.0\n",
       "33059                    Banca        1.0\n",
       "\n",
       "[33060 rows x 2 columns]"
      ]
     },
     "execution_count": 69,
     "metadata": {},
     "output_type": "execute_result"
    }
   ],
   "source": [
    "word_df"
   ]
  },
  {
   "cell_type": "code",
   "execution_count": 72,
   "metadata": {},
   "outputs": [],
   "source": [
    "def filter(row):\n",
    "    res = re.sub(r'[^@\\w\\s]', '', row.word)\n",
    "    res = \"\" if \"http\" in res else res\n",
    "    return res, row.occurence"
   ]
  },
  {
   "cell_type": "code",
   "execution_count": 74,
   "metadata": {},
   "outputs": [],
   "source": [
    "word_df_clean = word_df.apply(filter, axis=1, result_type='broadcast')"
   ]
  },
  {
   "cell_type": "code",
   "execution_count": 76,
   "metadata": {},
   "outputs": [],
   "source": [
    "word_df_clean = word_df_clean[word_df_clean.word != \"\"]"
   ]
  },
  {
   "cell_type": "code",
   "execution_count": 83,
   "metadata": {},
   "outputs": [],
   "source": [
    "word_df_clean = word_df_clean.groupby(['word'], axis=0, as_index=False).sum()"
   ]
  },
  {
   "cell_type": "code",
   "execution_count": 89,
   "metadata": {},
   "outputs": [
    {
     "data": {
      "text/html": [
       "<div>\n",
       "<style scoped>\n",
       "    .dataframe tbody tr th:only-of-type {\n",
       "        vertical-align: middle;\n",
       "    }\n",
       "\n",
       "    .dataframe tbody tr th {\n",
       "        vertical-align: top;\n",
       "    }\n",
       "\n",
       "    .dataframe thead th {\n",
       "        text-align: right;\n",
       "    }\n",
       "</style>\n",
       "<table border=\"1\" class=\"dataframe\">\n",
       "  <thead>\n",
       "    <tr style=\"text-align: right;\">\n",
       "      <th></th>\n",
       "      <th>word</th>\n",
       "      <th>occurence</th>\n",
       "    </tr>\n",
       "  </thead>\n",
       "  <tbody>\n",
       "    <tr>\n",
       "      <th>11070</th>\n",
       "      <td>de</td>\n",
       "      <td>7293.0</td>\n",
       "    </tr>\n",
       "    <tr>\n",
       "      <th>6744</th>\n",
       "      <td>RT</td>\n",
       "      <td>6136.0</td>\n",
       "    </tr>\n",
       "    <tr>\n",
       "      <th>15296</th>\n",
       "      <td>la</td>\n",
       "      <td>5334.0</td>\n",
       "    </tr>\n",
       "    <tr>\n",
       "      <th>7864</th>\n",
       "      <td>a</td>\n",
       "      <td>5042.0</td>\n",
       "    </tr>\n",
       "    <tr>\n",
       "      <th>18803</th>\n",
       "      <td>que</td>\n",
       "      <td>4881.0</td>\n",
       "    </tr>\n",
       "    <tr>\n",
       "      <th>14333</th>\n",
       "      <td>i</td>\n",
       "      <td>3624.0</td>\n",
       "    </tr>\n",
       "    <tr>\n",
       "      <th>12355</th>\n",
       "      <td>el</td>\n",
       "      <td>3360.0</td>\n",
       "    </tr>\n",
       "    <tr>\n",
       "      <th>16913</th>\n",
       "      <td>no</td>\n",
       "      <td>2186.0</td>\n",
       "    </tr>\n",
       "    <tr>\n",
       "      <th>17627</th>\n",
       "      <td>per</td>\n",
       "      <td>2131.0</td>\n",
       "    </tr>\n",
       "    <tr>\n",
       "      <th>804</th>\n",
       "      <td>@AlfredBosch</td>\n",
       "      <td>1642.0</td>\n",
       "    </tr>\n",
       "  </tbody>\n",
       "</table>\n",
       "</div>"
      ],
      "text/plain": [
       "               word  occurence\n",
       "11070            de     7293.0\n",
       "6744             RT     6136.0\n",
       "15296            la     5334.0\n",
       "7864              a     5042.0\n",
       "18803           que     4881.0\n",
       "14333             i     3624.0\n",
       "12355            el     3360.0\n",
       "16913            no     2186.0\n",
       "17627           per     2131.0\n",
       "804    @AlfredBosch     1642.0"
      ]
     },
     "execution_count": 89,
     "metadata": {},
     "output_type": "execute_result"
    }
   ],
   "source": [
    "word_df_clean.sort_values(by=\"occurence\", ascending=False).head(10)"
   ]
  },
  {
   "cell_type": "code",
   "execution_count": 84,
   "metadata": {},
   "outputs": [
    {
     "data": {
      "text/html": [
       "<div>\n",
       "<style scoped>\n",
       "    .dataframe tbody tr th:only-of-type {\n",
       "        vertical-align: middle;\n",
       "    }\n",
       "\n",
       "    .dataframe tbody tr th {\n",
       "        vertical-align: top;\n",
       "    }\n",
       "\n",
       "    .dataframe thead th {\n",
       "        text-align: right;\n",
       "    }\n",
       "</style>\n",
       "<table border=\"1\" class=\"dataframe\">\n",
       "  <thead>\n",
       "    <tr style=\"text-align: right;\">\n",
       "      <th></th>\n",
       "      <th>word</th>\n",
       "      <th>occurence</th>\n",
       "    </tr>\n",
       "  </thead>\n",
       "  <tbody>\n",
       "    <tr>\n",
       "      <th>804</th>\n",
       "      <td>@AlfredBosch</td>\n",
       "      <td>1642.0</td>\n",
       "    </tr>\n",
       "    <tr>\n",
       "      <th>1102</th>\n",
       "      <td>@ERCbcn</td>\n",
       "      <td>901.0</td>\n",
       "    </tr>\n",
       "    <tr>\n",
       "      <th>1164</th>\n",
       "      <td>@Esquerra_ERC</td>\n",
       "      <td>869.0</td>\n",
       "    </tr>\n",
       "    <tr>\n",
       "      <th>3444</th>\n",
       "      <td>Barcelona</td>\n",
       "      <td>633.0</td>\n",
       "    </tr>\n",
       "    <tr>\n",
       "      <th>11298</th>\n",
       "      <td>dels</td>\n",
       "      <td>481.0</td>\n",
       "    </tr>\n",
       "    <tr>\n",
       "      <th>13972</th>\n",
       "      <td>govern</td>\n",
       "      <td>444.0</td>\n",
       "    </tr>\n",
       "    <tr>\n",
       "      <th>1427</th>\n",
       "      <td>@KRLS</td>\n",
       "      <td>432.0</td>\n",
       "    </tr>\n",
       "    <tr>\n",
       "      <th>20252</th>\n",
       "      <td>sobre</td>\n",
       "      <td>410.0</td>\n",
       "    </tr>\n",
       "    <tr>\n",
       "      <th>3883</th>\n",
       "      <td>Colau</td>\n",
       "      <td>375.0</td>\n",
       "    </tr>\n",
       "    <tr>\n",
       "      <th>770</th>\n",
       "      <td>@AdaColau</td>\n",
       "      <td>315.0</td>\n",
       "    </tr>\n",
       "    <tr>\n",
       "      <th>2724</th>\n",
       "      <td>@naciopolitica</td>\n",
       "      <td>308.0</td>\n",
       "    </tr>\n",
       "    <tr>\n",
       "      <th>1901</th>\n",
       "      <td>@VilaWeb</td>\n",
       "      <td>287.0</td>\n",
       "    </tr>\n",
       "    <tr>\n",
       "      <th>8292</th>\n",
       "      <td>això</td>\n",
       "      <td>280.0</td>\n",
       "    </tr>\n",
       "    <tr>\n",
       "      <th>17719</th>\n",
       "      <td>perquè</td>\n",
       "      <td>274.0</td>\n",
       "    </tr>\n",
       "    <tr>\n",
       "      <th>3371</th>\n",
       "      <td>Avui</td>\n",
       "      <td>268.0</td>\n",
       "    </tr>\n",
       "    <tr>\n",
       "      <th>10372</th>\n",
       "      <td>contra</td>\n",
       "      <td>262.0</td>\n",
       "    </tr>\n",
       "    <tr>\n",
       "      <th>6679</th>\n",
       "      <td>Puigdemont</td>\n",
       "      <td>251.0</td>\n",
       "    </tr>\n",
       "    <tr>\n",
       "      <th>3800</th>\n",
       "      <td>Catalunya</td>\n",
       "      <td>246.0</td>\n",
       "    </tr>\n",
       "    <tr>\n",
       "      <th>16577</th>\n",
       "      <td>molt</td>\n",
       "      <td>246.0</td>\n",
       "    </tr>\n",
       "    <tr>\n",
       "      <th>8577</th>\n",
       "      <td>anys</td>\n",
       "      <td>242.0</td>\n",
       "    </tr>\n",
       "  </tbody>\n",
       "</table>\n",
       "</div>"
      ],
      "text/plain": [
       "                 word  occurence\n",
       "804      @AlfredBosch     1642.0\n",
       "1102          @ERCbcn      901.0\n",
       "1164    @Esquerra_ERC      869.0\n",
       "3444        Barcelona      633.0\n",
       "11298            dels      481.0\n",
       "13972          govern      444.0\n",
       "1427            @KRLS      432.0\n",
       "20252           sobre      410.0\n",
       "3883            Colau      375.0\n",
       "770         @AdaColau      315.0\n",
       "2724   @naciopolitica      308.0\n",
       "1901         @VilaWeb      287.0\n",
       "8292             això      280.0\n",
       "17719          perquè      274.0\n",
       "3371             Avui      268.0\n",
       "10372          contra      262.0\n",
       "6679       Puigdemont      251.0\n",
       "3800        Catalunya      246.0\n",
       "16577            molt      246.0\n",
       "8577             anys      242.0"
      ]
     },
     "execution_count": 84,
     "metadata": {},
     "output_type": "execute_result"
    }
   ],
   "source": [
    "word_df_clean[word_df_clean[\"word\"].str.len() > 3].sort_values(by=\"occurence\", ascending=False).head(20)"
   ]
  },
  {
   "attachments": {},
   "cell_type": "markdown",
   "metadata": {},
   "source": [
    "**From what we can see, must of tweets where engaging with prominent figure of the indendance movmeent of Catalonia**\n",
    "\n",
    "We can note that this data set contains at the same time retweet and tweet, so ti's possible that accounts present in the the dataset where engaging in retweeting a lot those figure as a way of boosting their audience. \n",
    "\n",
    "Also with the co-tweet network we can see that in our tweet dataset accounts weren't that much involved in retweeting themselves. They didn't interacts that much together."
   ]
  }
 ],
 "metadata": {
  "kernelspec": {
   "display_name": "Python 3",
   "language": "python",
   "name": "python3"
  },
  "language_info": {
   "codemirror_mode": {
    "name": "ipython",
    "version": 3
   },
   "file_extension": ".py",
   "mimetype": "text/x-python",
   "name": "python",
   "nbconvert_exporter": "python",
   "pygments_lexer": "ipython3",
   "version": "3.9.13"
  },
  "orig_nbformat": 4,
  "vscode": {
   "interpreter": {
    "hash": "5f1ecf86ead7d6f3069f6d52280d7738985d6d9ca4afa10d4f8210347f6c00d3"
   }
  }
 },
 "nbformat": 4,
 "nbformat_minor": 2
}
